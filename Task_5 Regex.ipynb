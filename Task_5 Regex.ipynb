{
 "cells": [
  {
   "cell_type": "markdown",
   "id": "b7ba3aa6",
   "metadata": {},
   "source": [
    "### Problem 1 : Re.split()"
   ]
  },
  {
   "cell_type": "code",
   "execution_count": 2,
   "id": "85663b24",
   "metadata": {
    "scrolled": false
   },
   "outputs": [
    {
     "name": "stdout",
     "output_type": "stream",
     "text": [
      "100,000,000.000\n",
      "100\n",
      "000\n",
      "000\n",
      "000\n"
     ]
    }
   ],
   "source": [
    "regex_pattern = r\"[,.]\"\t# Do not delete 'r'.\n",
    "\n",
    "import re\n",
    "print(\"\\n\".join(re.split(regex_pattern, input())))"
   ]
  },
  {
   "cell_type": "markdown",
   "id": "40fa214b",
   "metadata": {},
   "source": [
    "### Problem 2 : Re.start() & Re.end()"
   ]
  },
  {
   "cell_type": "code",
   "execution_count": 4,
   "id": "de5d46f4",
   "metadata": {},
   "outputs": [
    {
     "name": "stdout",
     "output_type": "stream",
     "text": [
      "aaadaa\n",
      "aa\n",
      "(0,1)\n",
      "(1,2)\n",
      "(4,5)\n"
     ]
    }
   ],
   "source": [
    "import re\n",
    "\n",
    "s = input()\n",
    "k = input()\n",
    "\n",
    "pattern = re.compile(k)\n",
    "match = pattern.search(s)\n",
    "\n",
    "if not match:\n",
    "    print(\"(-1, -1)\")\n",
    "    \n",
    "while match:\n",
    "    print(\"({0}, {1})\".format(match.start(),match.end()-1))\n",
    "    match = pattern.search(s,match.start()+1)"
   ]
  },
  {
   "cell_type": "code",
   "execution_count": 14,
   "id": "41ca7e5c",
   "metadata": {},
   "outputs": [
    {
     "name": "stdout",
     "output_type": "stream",
     "text": [
      "rabcdeefgyYhFjkIoomnpOeorteeeeet\n",
      "[]\n"
     ]
    }
   ],
   "source": [
    "import re\n",
    "input_ = str(input())\n",
    "vowels = 'aeiou'\n",
    "consinants = 'qwrtypsdfghjklzxcvbnm'\n",
    "print(re.findall(r\"\\baeiou\\w+\\b\", input_))"
   ]
  },
  {
   "cell_type": "markdown",
   "id": "30b0935a",
   "metadata": {},
   "source": [
    "### Problem 3 : HTML Parsing"
   ]
  },
  {
   "cell_type": "code",
   "execution_count": 18,
   "id": "db4bb926",
   "metadata": {},
   "outputs": [
    {
     "name": "stdout",
     "output_type": "stream",
     "text": [
      "2\n",
      "<html><head><title>HTML Parser - I</title></head>\n",
      "<body data-modal-target class='1'><h1>HackerRank</h1><br /></body></html>\n",
      "start : html\n",
      "start : head\n",
      "start : title\n",
      "end: title\n",
      "end: head\n",
      "start : body\n",
      "-> data-modal-target > None\n",
      "-> class > 1\n",
      "start : h1\n",
      "end: h1\n",
      "empty : br\n",
      "end: body\n",
      "end: html\n"
     ]
    }
   ],
   "source": [
    "from html.parser import HTMLParser\n",
    "N=int(input())\n",
    "\n",
    "class MyHTMLParser(HTMLParser):\n",
    "    \n",
    "    def handle_starttag(self, tag, attrs):\n",
    "        print (\"start :\", tag)\n",
    "        for element in attrs:\n",
    "            print('->', element[0], '>', element[1])\n",
    "       \n",
    "    def handle_endtag(self, tag):\n",
    "        print (\"end:\", tag)\n",
    "        \n",
    "    def handle_startendtag(self, tag, attrs):\n",
    "        print (\"empty :\", tag)\n",
    "        for element in attrs:\n",
    "            print(\"->\", element[0], \">\", element[1])\n",
    "            \n",
    "parser = MyHTMLParser()\n",
    "parser.feed(''.join([input().strip() for i in range(0, N)]))\n",
    "\n",
    "    \n",
    "            "
   ]
  },
  {
   "cell_type": "markdown",
   "id": "e81718d7",
   "metadata": {},
   "source": [
    "### Problem 4 : HTML Parser - Part2"
   ]
  },
  {
   "cell_type": "code",
   "execution_count": 20,
   "id": "00adda16",
   "metadata": {
    "scrolled": false
   },
   "outputs": [
    {
     "name": "stdout",
     "output_type": "stream",
     "text": [
      "4\n",
      "<!--[if IE 9]>IE9-specific content\n",
      "<![endif]-->\n",
      "<div> Welcome to HackerRank</div>\n",
      "<!--[if IE 9]>IE9-specific content<![endif]-->\n",
      ">>> Multi-line Comment\n",
      "[if IE 9]>IE9-specific content\n",
      "<![endif]\n",
      ">>>Data\n",
      " Welcome to HackerRank\n",
      ">>> Single-line Comment\n",
      "[if IE 9]>IE9-specific content<![endif]\n"
     ]
    }
   ],
   "source": [
    "from html.parser import HTMLParser\n",
    "\n",
    "class MyHTMLParser(HTMLParser):\n",
    "    def handle_comment(self, data):\n",
    "        if (len(data.split(\"\\n\")) != 1):\n",
    "            print(\">>> Multi-line Comment\")\n",
    "        else:\n",
    "            print(\">>> Single-line Comment\")\n",
    "        print(data.replace(\"\\r\", \"\\n\"))\n",
    "    def handle_data(self, data):\n",
    "        if data .strip():\n",
    "            print (\">>> Data\")\n",
    "            print(data)\n",
    "  \n",
    "    \n",
    "html = \"\"       \n",
    "for i in range(int(input())):\n",
    "    html += input().rstrip()\n",
    "    html += '\\n'\n",
    "    \n",
    "parser = MyHTMLParser()\n",
    "parser.feed(html)\n",
    "parser.close()"
   ]
  },
  {
   "cell_type": "markdown",
   "id": "e0496d18",
   "metadata": {},
   "source": [
    "### Problem 5 : Validating Phone number"
   ]
  },
  {
   "cell_type": "code",
   "execution_count": 25,
   "id": "8c44f6c3",
   "metadata": {
    "scrolled": true
   },
   "outputs": [
    {
     "name": "stdout",
     "output_type": "stream",
     "text": [
      "2\n",
      "9876543215\n",
      "YES\n",
      "6547893214\n",
      "NO\n"
     ]
    }
   ],
   "source": [
    "N = int(input())\n",
    "import re\n",
    "for i in range(N):\n",
    "    if re.match(r\"[789]\\d{9}$\",input()):\n",
    "        print(\"YES\")\n",
    "    else:\n",
    "        print(\"NO\")"
   ]
  },
  {
   "cell_type": "markdown",
   "id": "d3922f5d",
   "metadata": {},
   "source": [
    "### Problem 6 : Validating and Parsing Email Addresses"
   ]
  },
  {
   "cell_type": "code",
   "execution_count": 30,
   "id": "ffd76052",
   "metadata": {
    "scrolled": true
   },
   "outputs": [
    {
     "name": "stdout",
     "output_type": "stream",
     "text": [
      "2\n",
      "DEXTER <dexter@hotmail.com>\n",
      "DEXTER <dexter@hotmail.com>\n",
      "VIRUS <virus!@variable.:p>\n"
     ]
    }
   ],
   "source": [
    "import email.utils\n",
    "import re \n",
    "N =int(input())\n",
    "pattern = r'^[a-z][\\w\\-\\.]+@[a-z]+\\.[a-z]{1,3}$'\n",
    "\n",
    "for i in range(0,N):\n",
    "    parse_addr = email.utils.parseaddr(input())\n",
    "    \n",
    "    if re.search(pattern, parse_addr[1]):\n",
    "        print(email.utils.formataddr(parse_addr))\n"
   ]
  },
  {
   "cell_type": "markdown",
   "id": "dedbe387",
   "metadata": {},
   "source": [
    "### Problem 7 : Hex Color Code"
   ]
  },
  {
   "cell_type": "code",
   "execution_count": 3,
   "id": "8bad5aa2",
   "metadata": {
    "scrolled": false
   },
   "outputs": [
    {
     "name": "stdout",
     "output_type": "stream",
     "text": [
      "11\n",
      "#BED\n",
      "{\n",
      "    color: #FfFdF8; background-color:#aef;\n",
      "    font-size: 123px;\n",
      "    background: -webkit-linear-gradient(top, #f9f9f9, #fff);\n",
      "}\n",
      "#Cab\n",
      "{\n",
      "    background-color: #ABC;\n",
      "    border: 2px dashed #fff;\n",
      "}\n",
      "#FfFdF8\n",
      "#aef\n",
      "#f9f9f9\n",
      "#fff\n",
      "#ABC\n",
      "#fff\n"
     ]
    }
   ],
   "source": [
    "import re\n",
    "\n",
    "N = int(input())\n",
    "\n",
    "regex = re.compile(r'.#[a-fA-F0-9]{3,6}')\n",
    "\n",
    "text = '\\n'.join([input() for _ in range(N)])\n",
    "\n",
    "for code in regex.findall(text):\n",
    "    print(code[1:])"
   ]
  },
  {
   "cell_type": "markdown",
   "id": "12b94f20",
   "metadata": {},
   "source": [
    "### Problem 8 : Detect HTML Tags, Attributes and Attribute Values"
   ]
  },
  {
   "cell_type": "code",
   "execution_count": 6,
   "id": "0643397c",
   "metadata": {
    "scrolled": false
   },
   "outputs": [
    {
     "name": "stdout",
     "output_type": "stream",
     "text": [
      "9\n",
      "<head>\n",
      "<title>HTML</title>\n",
      "</head>\n",
      "<object type=\"application/x-flash\" \n",
      "  data=\"your-file.swf\" \n",
      "  width=\"0\" height=\"0\">\n",
      "  <!-- <param name=\"movie\" value=\"your-file.swf\" /> -->\n",
      "  <param name=\"quality\" value=\"high\"/>\n",
      "</object>\n",
      "head\n",
      "title\n",
      "object\n",
      "-> type > application/x-flash\n",
      "-> data > your-file.swf\n",
      "-> width > 0\n",
      "-> height > 0\n",
      "param\n",
      "-> name > quality\n",
      "-> value > high\n"
     ]
    }
   ],
   "source": [
    "from html.parser import HTMLParser\n",
    "\n",
    "N = int(input())\n",
    "\n",
    "text = '\\n'.join([input() for i in range(N)])\n",
    "\n",
    "class MyHTMLParser(HTMLParser):\n",
    "        def handle_starttag(self, tag, attrs):\n",
    "                print(tag)\n",
    "                for attr in attrs:\n",
    "                        print('->', attr[0], '>', attr[1])\n",
    "\n",
    "parser = MyHTMLParser()\n",
    "parser.feed(text)"
   ]
  },
  {
   "cell_type": "markdown",
   "id": "75de52a9",
   "metadata": {},
   "source": [
    "### Problem 9 : Validating UID"
   ]
  },
  {
   "cell_type": "code",
   "execution_count": 14,
   "id": "ca7a549b",
   "metadata": {
    "scrolled": true
   },
   "outputs": [
    {
     "name": "stdout",
     "output_type": "stream",
     "text": [
      "2\n",
      "B1CD102354\n",
      "Invalid\n",
      "B1CDEF2354\n",
      "Valid\n"
     ]
    }
   ],
   "source": [
    "import re\n",
    "\n",
    "N = int(input())\n",
    "        \n",
    "for i in range(N):\n",
    "    s = input()\n",
    "        \n",
    "    if all ([len(re.findall(r'[A-Z]',s)) >= 2,\n",
    "            len(re.findall(r'[0-9]', s)) >= 3,\n",
    "            re.match(r'^[A-Za-z0-9]+$', s),\n",
    "            len(re.findall(r'(.).*\\1', s)) == 0,\n",
    "            len(s) == 10]):\n",
    "        print('Valid')\n",
    "    else:\n",
    "        print('Invalid')"
   ]
  },
  {
   "cell_type": "markdown",
   "id": "7cca08b4",
   "metadata": {},
   "source": [
    "### Problem 10 : Regex Substitution"
   ]
  },
  {
   "cell_type": "code",
   "execution_count": 20,
   "id": "da3b359e",
   "metadata": {},
   "outputs": [
    {
     "name": "stdout",
     "output_type": "stream",
     "text": [
      "10\n",
      "a = 1;\n",
      "a = 1;\n",
      "b = input();\n",
      "b = input();\n",
      "if a + b > 0 && a - b < 0:\n",
      "if a + b > 0 and a - b < 0:\n",
      "    start()\n",
      "    start()\n",
      "elif a*b > 10 || a/b < 1:\n",
      "elif a*b > 10 or a/b < 1:\n",
      "    stop()\n",
      "    stop()\n",
      "print set(list(a)) | set(list(b)) \n",
      "print set(list(a)) | set(list(b)) \n",
      "#Note do not change &&& or ||| or & or |\n",
      "#Note do not change &&& or ||| or & or |\n",
      "#Only change those '&&' which have space on both sides.\n",
      "#Only change those '&&' which have space on both sides.\n",
      "#Only change those '|| which have space on both sides.\n",
      "#Only change those '|| which have space on both sides.\n"
     ]
    }
   ],
   "source": [
    "import re\n",
    "\n",
    "N = int(input())\n",
    "\n",
    "rep = lambda x: x.group().replace('&&', 'and').replace('||', 'or')\n",
    "for i in range(N):\n",
    "    print(re.sub(r'(?<= )\\&\\& |(?<= )\\|\\| ', rep, input()))"
   ]
  },
  {
   "cell_type": "markdown",
   "id": "e924f466",
   "metadata": {},
   "source": [
    "### Problem 11 : Detect Floating Point Number"
   ]
  },
  {
   "cell_type": "code",
   "execution_count": 22,
   "id": "a49008f9",
   "metadata": {
    "scrolled": true
   },
   "outputs": [
    {
     "name": "stdout",
     "output_type": "stream",
     "text": [
      "4\n",
      "4.0o0\n",
      "False\n",
      "-1.00\n",
      "True\n",
      "+4.54\n",
      "True\n",
      "SomeRandomStuff\n",
      "False\n"
     ]
    }
   ],
   "source": [
    "import re \n",
    "\n",
    "reg_pattern = re.compile('^[+-]?[0-9]*\\.[0-9]+$')\n",
    "\n",
    "N = int(input())\n",
    "for i in range(N):\n",
    "    t_f = bool(reg_pattern.match(input()))\n",
    "    print(t_f)"
   ]
  },
  {
   "cell_type": "markdown",
   "id": "05856de5",
   "metadata": {},
   "source": [
    "### Problem 12 : Group(), Groups() & Groupdict()"
   ]
  },
  {
   "cell_type": "code",
   "execution_count": 29,
   "id": "2b761a31",
   "metadata": {},
   "outputs": [
    {
     "name": "stdout",
     "output_type": "stream",
     "text": [
      "..12345678910111213141516171820212223\n",
      "1\n"
     ]
    }
   ],
   "source": [
    "import re\n",
    "s = input()\n",
    "\n",
    "pattern = re.search(r\"([a-zA-Z0-9])\\1+\", s)\n",
    "\n",
    "if pattern:\n",
    "    print(pattern.group(1))\n",
    "else:\n",
    "    print(-1)"
   ]
  },
  {
   "cell_type": "markdown",
   "id": "0e04a1e5",
   "metadata": {},
   "source": [
    "### Problem 13 : Re.findall() & Re.finditer()"
   ]
  },
  {
   "cell_type": "code",
   "execution_count": 55,
   "id": "9fd00826",
   "metadata": {},
   "outputs": [
    {
     "name": "stdout",
     "output_type": "stream",
     "text": [
      "rabcdeefgyYhFjkIoomnpOeorteeeeet\n",
      "ee\n",
      "Ioo\n",
      "Oeo\n",
      "eeeee\n"
     ]
    }
   ],
   "source": [
    "import re\n",
    "s = str(input())\n",
    "s = s.strip(\"AEIOUaeiou\")\n",
    "result = re.findall(r\"[AEIOUaeiou]{2,}\",s)\n",
    "if not result:\n",
    "    print(-1)\n",
    "else:\n",
    "    [print(r) for r in result]"
   ]
  },
  {
   "cell_type": "markdown",
   "id": "38302ca0",
   "metadata": {},
   "source": [
    "### Problem 14 : Validating Roman Numerals"
   ]
  },
  {
   "cell_type": "code",
   "execution_count": 56,
   "id": "7281bdac",
   "metadata": {},
   "outputs": [
    {
     "name": "stdout",
     "output_type": "stream",
     "text": [
      "CDXXI\n",
      "True\n"
     ]
    }
   ],
   "source": [
    "import re\n",
    "\n",
    "regex_pattern = r'^(M{0,3})(CM|CD|D?C{0,3})(XC|XL|L?X{0,3})(IX|IV|V?I{0,3})$'\n",
    "\n",
    "print(str(bool(re.match(regex_pattern, input()))))"
   ]
  },
  {
   "cell_type": "markdown",
   "id": "d605bc24",
   "metadata": {},
   "source": [
    "### Problem 15 : Validating Credit Card Numbers"
   ]
  },
  {
   "cell_type": "code",
   "execution_count": 68,
   "id": "acf27df8",
   "metadata": {},
   "outputs": [
    {
     "name": "stdout",
     "output_type": "stream",
     "text": [
      "6\n",
      "4123456789123456\n",
      "5123-4567-8912-3456\n",
      "61234-567-8912-3456\n",
      "4123356789123456\n",
      "5133-3367-8912-3456\n",
      "5123 - 3567 - 8912 - 3456\n",
      "Valid\n",
      "Valid\n",
      "Invalid\n",
      "Valid\n",
      "Invalid\n",
      "Invalid\n"
     ]
    }
   ],
   "source": [
    "import re\n",
    "\n",
    "N=int(input())\n",
    "\n",
    "l=[input() for i in range(N)]\n",
    "for card in l:\n",
    "    match_1 = re.fullmatch(r'[456]\\d{3}((?P<sep>-?)\\d{4})((?P=sep)\\d{4}){2}', card)\n",
    "    card_num = card.replace('-', '')\n",
    "    match_2 = re.search(r'(?P<digit>\\d)(?P=digit){3}',card_num)\n",
    "    if match_1 and not match_2:\n",
    "        print('Valid')\n",
    "    else:\n",
    "        print('Invalid')"
   ]
  },
  {
   "cell_type": "markdown",
   "id": "a024d1cb",
   "metadata": {},
   "source": [
    "### Problem 16 : Validating Postal Codes"
   ]
  },
  {
   "cell_type": "code",
   "execution_count": 76,
   "id": "e8a9e2c5",
   "metadata": {
    "scrolled": true
   },
   "outputs": [
    {
     "name": "stdout",
     "output_type": "stream",
     "text": [
      "110000\n",
      "False\n"
     ]
    }
   ],
   "source": [
    "regex_integer_in_range = r\"^([1-9][0-9]{5})$\"\n",
    "regex_alternating_repetitive_digit_pair = r\"(?=(\\d)\\d\\1)\"\n",
    "\n",
    "import re\n",
    "P = input()\n",
    "\n",
    "print (bool(re.match(regex_integer_in_range, P)) and len(re.findall(regex_alternating_repetitive_digit_pair, P)) < 2)"
   ]
  },
  {
   "cell_type": "markdown",
   "id": "934765fc",
   "metadata": {},
   "source": [
    "### Problem 17 : Matrix Script"
   ]
  },
  {
   "cell_type": "code",
   "execution_count": 83,
   "id": "f87d36c4",
   "metadata": {},
   "outputs": [
    {
     "name": "stdout",
     "output_type": "stream",
     "text": [
      "7 3\n",
      "Tsi\n",
      "h%x\n",
      "i #\n",
      "sM \n",
      "$a \n",
      "#t%\n",
      "ir!\n",
      "This is Matrix#  %!\n"
     ]
    }
   ],
   "source": [
    "import math\n",
    "import os\n",
    "import random\n",
    "import re\n",
    "import sys\n",
    "\n",
    "\n",
    "\n",
    "\n",
    "first_multiple_input = input().rstrip().split()\n",
    "\n",
    "n = int(first_multiple_input[0])\n",
    "\n",
    "m = int(first_multiple_input[1])\n",
    "\n",
    "matrix = []\n",
    "for x in range(n):\n",
    "    matrix_item = input()\n",
    "    matrix.append(matrix_item)\n",
    "    \n",
    "\n",
    "script = \"\"\n",
    "for i in range(m):\n",
    "    for j in range(n):\n",
    "        script += matrix[j][i]\n",
    "        \n",
    "script = re.sub(r\"(?<=[A-Za-z0-9])[^A-Za-z0-9]+(?=[A-Za-z0-9])\", \" \", script)            \n",
    "\n",
    "print(script)"
   ]
  }
 ],
 "metadata": {
  "kernelspec": {
   "display_name": "Python 3 (ipykernel)",
   "language": "python",
   "name": "python3"
  },
  "language_info": {
   "codemirror_mode": {
    "name": "ipython",
    "version": 3
   },
   "file_extension": ".py",
   "mimetype": "text/x-python",
   "name": "python",
   "nbconvert_exporter": "python",
   "pygments_lexer": "ipython3",
   "version": "3.9.12"
  }
 },
 "nbformat": 4,
 "nbformat_minor": 5
}
